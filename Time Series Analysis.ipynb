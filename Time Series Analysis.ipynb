{
 "cells": [
  {
   "cell_type": "code",
   "execution_count": 1,
   "metadata": {},
   "outputs": [
    {
     "name": "stdout",
     "output_type": "stream",
     "text": [
      "Requirement already satisfied: statsmodels in c:\\users\\ajmerahu\\appdata\\local\\continuum\\anaconda3\\lib\\site-packages (0.9.0)\n"
     ]
    }
   ],
   "source": [
    "!pip install statsmodels"
   ]
  },
  {
   "cell_type": "markdown",
   "metadata": {},
   "source": [
    "- Run the below to import the data\n",
    "- The data contains All stocks in the S&P 500 index, and their historical prices for the year 2011"
   ]
  },
  {
   "cell_type": "code",
   "execution_count": 2,
   "metadata": {
    "scrolled": true
   },
   "outputs": [
    {
     "data": {
      "text/html": [
       "<div>\n",
       "<style scoped>\n",
       "    .dataframe tbody tr th:only-of-type {\n",
       "        vertical-align: middle;\n",
       "    }\n",
       "\n",
       "    .dataframe tbody tr th {\n",
       "        vertical-align: top;\n",
       "    }\n",
       "\n",
       "    .dataframe thead th {\n",
       "        text-align: right;\n",
       "    }\n",
       "</style>\n",
       "<table border=\"1\" class=\"dataframe\">\n",
       "  <thead>\n",
       "    <tr style=\"text-align: right;\">\n",
       "      <th></th>\n",
       "      <th>quarter</th>\n",
       "      <th>stock</th>\n",
       "      <th>open</th>\n",
       "      <th>high</th>\n",
       "      <th>low</th>\n",
       "      <th>close</th>\n",
       "      <th>volume</th>\n",
       "      <th>percent_change_price</th>\n",
       "      <th>percent_change_volume_over_last_wk</th>\n",
       "      <th>previous_weeks_volume</th>\n",
       "      <th>next_weeks_open</th>\n",
       "      <th>next_weeks_close</th>\n",
       "      <th>percent_change_next_weeks_price</th>\n",
       "      <th>days_to_next_dividend</th>\n",
       "      <th>percent_return_next_dividend</th>\n",
       "    </tr>\n",
       "    <tr>\n",
       "      <th>date</th>\n",
       "      <th></th>\n",
       "      <th></th>\n",
       "      <th></th>\n",
       "      <th></th>\n",
       "      <th></th>\n",
       "      <th></th>\n",
       "      <th></th>\n",
       "      <th></th>\n",
       "      <th></th>\n",
       "      <th></th>\n",
       "      <th></th>\n",
       "      <th></th>\n",
       "      <th></th>\n",
       "      <th></th>\n",
       "      <th></th>\n",
       "    </tr>\n",
       "  </thead>\n",
       "  <tbody>\n",
       "    <tr>\n",
       "      <th>2011-01-07</th>\n",
       "      <td>1</td>\n",
       "      <td>AA</td>\n",
       "      <td>$15.82</td>\n",
       "      <td>$16.72</td>\n",
       "      <td>$15.78</td>\n",
       "      <td>$16.42</td>\n",
       "      <td>239655616</td>\n",
       "      <td>3.79267</td>\n",
       "      <td>NaN</td>\n",
       "      <td>NaN</td>\n",
       "      <td>$16.71</td>\n",
       "      <td>$15.97</td>\n",
       "      <td>-4.428490</td>\n",
       "      <td>26</td>\n",
       "      <td>0.182704</td>\n",
       "    </tr>\n",
       "    <tr>\n",
       "      <th>2011-01-14</th>\n",
       "      <td>1</td>\n",
       "      <td>AA</td>\n",
       "      <td>$16.71</td>\n",
       "      <td>$16.71</td>\n",
       "      <td>$15.64</td>\n",
       "      <td>$15.97</td>\n",
       "      <td>242963398</td>\n",
       "      <td>-4.42849</td>\n",
       "      <td>1.380223</td>\n",
       "      <td>239655616.0</td>\n",
       "      <td>$16.19</td>\n",
       "      <td>$15.79</td>\n",
       "      <td>-2.470660</td>\n",
       "      <td>19</td>\n",
       "      <td>0.187852</td>\n",
       "    </tr>\n",
       "    <tr>\n",
       "      <th>2011-01-21</th>\n",
       "      <td>1</td>\n",
       "      <td>AA</td>\n",
       "      <td>$16.19</td>\n",
       "      <td>$16.38</td>\n",
       "      <td>$15.60</td>\n",
       "      <td>$15.79</td>\n",
       "      <td>138428495</td>\n",
       "      <td>-2.47066</td>\n",
       "      <td>-43.024959</td>\n",
       "      <td>242963398.0</td>\n",
       "      <td>$15.87</td>\n",
       "      <td>$16.13</td>\n",
       "      <td>1.638310</td>\n",
       "      <td>12</td>\n",
       "      <td>0.189994</td>\n",
       "    </tr>\n",
       "    <tr>\n",
       "      <th>2011-01-28</th>\n",
       "      <td>1</td>\n",
       "      <td>AA</td>\n",
       "      <td>$15.87</td>\n",
       "      <td>$16.63</td>\n",
       "      <td>$15.82</td>\n",
       "      <td>$16.13</td>\n",
       "      <td>151379173</td>\n",
       "      <td>1.63831</td>\n",
       "      <td>9.355500</td>\n",
       "      <td>138428495.0</td>\n",
       "      <td>$16.18</td>\n",
       "      <td>$17.14</td>\n",
       "      <td>5.933250</td>\n",
       "      <td>5</td>\n",
       "      <td>0.185989</td>\n",
       "    </tr>\n",
       "    <tr>\n",
       "      <th>2011-02-04</th>\n",
       "      <td>1</td>\n",
       "      <td>AA</td>\n",
       "      <td>$16.18</td>\n",
       "      <td>$17.39</td>\n",
       "      <td>$16.18</td>\n",
       "      <td>$17.14</td>\n",
       "      <td>154387761</td>\n",
       "      <td>5.93325</td>\n",
       "      <td>1.987452</td>\n",
       "      <td>151379173.0</td>\n",
       "      <td>$17.33</td>\n",
       "      <td>$17.37</td>\n",
       "      <td>0.230814</td>\n",
       "      <td>97</td>\n",
       "      <td>0.175029</td>\n",
       "    </tr>\n",
       "  </tbody>\n",
       "</table>\n",
       "</div>"
      ],
      "text/plain": [
       "            quarter stock    open    high     low   close     volume  \\\n",
       "date                                                                   \n",
       "2011-01-07        1    AA  $15.82  $16.72  $15.78  $16.42  239655616   \n",
       "2011-01-14        1    AA  $16.71  $16.71  $15.64  $15.97  242963398   \n",
       "2011-01-21        1    AA  $16.19  $16.38  $15.60  $15.79  138428495   \n",
       "2011-01-28        1    AA  $15.87  $16.63  $15.82  $16.13  151379173   \n",
       "2011-02-04        1    AA  $16.18  $17.39  $16.18  $17.14  154387761   \n",
       "\n",
       "            percent_change_price  percent_change_volume_over_last_wk  \\\n",
       "date                                                                   \n",
       "2011-01-07               3.79267                                 NaN   \n",
       "2011-01-14              -4.42849                            1.380223   \n",
       "2011-01-21              -2.47066                          -43.024959   \n",
       "2011-01-28               1.63831                            9.355500   \n",
       "2011-02-04               5.93325                            1.987452   \n",
       "\n",
       "            previous_weeks_volume next_weeks_open next_weeks_close  \\\n",
       "date                                                                 \n",
       "2011-01-07                    NaN          $16.71           $15.97   \n",
       "2011-01-14            239655616.0          $16.19           $15.79   \n",
       "2011-01-21            242963398.0          $15.87           $16.13   \n",
       "2011-01-28            138428495.0          $16.18           $17.14   \n",
       "2011-02-04            151379173.0          $17.33           $17.37   \n",
       "\n",
       "            percent_change_next_weeks_price  days_to_next_dividend  \\\n",
       "date                                                                 \n",
       "2011-01-07                        -4.428490                     26   \n",
       "2011-01-14                        -2.470660                     19   \n",
       "2011-01-21                         1.638310                     12   \n",
       "2011-01-28                         5.933250                      5   \n",
       "2011-02-04                         0.230814                     97   \n",
       "\n",
       "            percent_return_next_dividend  \n",
       "date                                      \n",
       "2011-01-07                      0.182704  \n",
       "2011-01-14                      0.187852  \n",
       "2011-01-21                      0.189994  \n",
       "2011-01-28                      0.185989  \n",
       "2011-02-04                      0.175029  "
      ]
     },
     "execution_count": 2,
     "metadata": {},
     "output_type": "execute_result"
    }
   ],
   "source": [
    "import pandas as pd\n",
    "dataFrame = pd.read_csv('dow_jones_index.data',parse_dates=[\"date\"], index_col=\"date\")\n",
    "dataFrame.head()"
   ]
  },
  {
   "cell_type": "markdown",
   "metadata": {},
   "source": [
    "Run the below cell to filter the closing price related to stock 'AA'"
   ]
  },
  {
   "cell_type": "code",
   "execution_count": 3,
   "metadata": {},
   "outputs": [],
   "source": [
    "closeTS = dataFrame[(dataFrame.stock == 'AA')].close.str.replace('$',' ').astype(float)"
   ]
  },
  {
   "cell_type": "markdown",
   "metadata": {},
   "source": [
    "- Using the data filtered in the above step list all the closing price from **jan to march** <br>\n",
    "- assign the resulting series to variable 'close_AA'"
   ]
  },
  {
   "cell_type": "code",
   "execution_count": 4,
   "metadata": {},
   "outputs": [
    {
     "name": "stdout",
     "output_type": "stream",
     "text": [
      "date\n",
      "2011-01-07    16.42\n",
      "2011-01-14    15.97\n",
      "2011-01-21    15.79\n",
      "2011-01-28    16.13\n",
      "2011-02-04    17.14\n",
      "2011-02-11    17.37\n",
      "2011-02-18    17.28\n",
      "2011-02-25    16.68\n",
      "2011-03-04    16.58\n",
      "2011-03-11    16.03\n",
      "2011-03-18    16.11\n",
      "2011-03-25    17.09\n",
      "2011-04-01    17.47\n",
      "Name: close, dtype: float64\n"
     ]
    }
   ],
   "source": [
    "close_AA = closeTS.loc['2011-01-01':'2011-04-01']\n",
    "print (close_AA)"
   ]
  },
  {
   "cell_type": "markdown",
   "metadata": {},
   "source": [
    "- Upsample the data filtered in the above step month wise and fill the max value of closing price for each month\n",
    "- return the samples of down sampled data to variable 'upsample'"
   ]
  },
  {
   "cell_type": "code",
   "execution_count": 5,
   "metadata": {},
   "outputs": [
    {
     "name": "stdout",
     "output_type": "stream",
     "text": [
      "date\n",
      "2011-01-31    16.42\n",
      "2011-02-28    17.37\n",
      "2011-03-31    17.09\n",
      "2011-04-30    17.92\n",
      "2011-05-31    17.15\n",
      "2011-06-30    15.92\n",
      "Freq: M, Name: close, dtype: float64\n"
     ]
    }
   ],
   "source": [
    "upsample = closeTS.resample('M').max()\n",
    "print(upsample)"
   ]
  },
  {
   "cell_type": "markdown",
   "metadata": {},
   "source": [
    "- downsample the data filtered in the above step day wise and perform interpolation to forward fill the first two 'Nan' values.\n",
    "- return the first 10 samples of downsampled data to variable 'downsample'"
   ]
  },
  {
   "cell_type": "code",
   "execution_count": 6,
   "metadata": {},
   "outputs": [
    {
     "name": "stdout",
     "output_type": "stream",
     "text": [
      "date\n",
      "2011-01-07    16.42\n",
      "2011-01-08    16.42\n",
      "2011-01-09    16.42\n",
      "2011-01-10    16.42\n",
      "2011-01-11    16.42\n",
      "2011-01-12      NaN\n",
      "2011-01-13      NaN\n",
      "2011-01-14    15.97\n",
      "2011-01-15    15.97\n",
      "2011-01-16    15.97\n",
      "Freq: D, Name: close, dtype: float64\n"
     ]
    }
   ],
   "source": [
    "downsample = closeTS.resample('D').interpolate(method='pad', limit=4, limit_direction='forward')[0:10]\n",
    "print (downsample)"
   ]
  },
  {
   "cell_type": "markdown",
   "metadata": {},
   "source": [
    "Run the below cell to filter the opening price related to stock 'WMT'.The sample is returned to variable 'open_WMT_Ts'"
   ]
  },
  {
   "cell_type": "code",
   "execution_count": 7,
   "metadata": {},
   "outputs": [],
   "source": [
    "open_WMT_Ts = dataFrame[(dataFrame.stock == 'WMT')].open.str.replace('$',' ').astype(float)"
   ]
  },
  {
   "cell_type": "markdown",
   "metadata": {},
   "source": [
    "- from statsmodels import adfuller method"
   ]
  },
  {
   "cell_type": "code",
   "execution_count": 8,
   "metadata": {},
   "outputs": [],
   "source": [
    "from statsmodels.tsa.stattools import adfuller"
   ]
  },
  {
   "cell_type": "markdown",
   "metadata": {},
   "source": [
    "- perform stationarity check on WMT opening price using adfuller method and return the result to variable  'tsResult'\n",
    "- Find the value of ADF Statistic from the above test result "
   ]
  },
  {
   "cell_type": "code",
   "execution_count": 9,
   "metadata": {},
   "outputs": [
    {
     "name": "stdout",
     "output_type": "stream",
     "text": [
      "ADF Statistic: -3.892828\n",
      "p-value: 0.002088\n",
      "\t1%: -3.924\n",
      "\t5%: -3.068\n",
      "\t10%: -2.674\n"
     ]
    }
   ],
   "source": [
    "tsResult = adfuller(open_WMT_Ts)\n",
    "print('ADF Statistic: %f' % tsResult[0])\n",
    "print('p-value: %f' % tsResult[1])\n",
    "for key, value in tsResult[4].items():\n",
    "    print('\\t%s: %.3f' % (key, value))"
   ]
  },
  {
   "cell_type": "markdown",
   "metadata": {},
   "source": [
    "Run the below cell to filter the opening price related to stock 'XOM'.The sample is returned to variable 'close_XOM_Ts'"
   ]
  },
  {
   "cell_type": "code",
   "execution_count": 10,
   "metadata": {},
   "outputs": [],
   "source": [
    "close_XOM_Ts = dataFrame[(dataFrame.stock == 'XOM')].close.str.replace('$',' ').astype(float)"
   ]
  },
  {
   "cell_type": "markdown",
   "metadata": {},
   "source": [
    "- perform stationarity check on XOM closing price using adfuller method and return the result to variable  'tsResult'\n",
    "- Find the value of ADF Statistic from the above test result"
   ]
  },
  {
   "cell_type": "code",
   "execution_count": 11,
   "metadata": {},
   "outputs": [
    {
     "name": "stdout",
     "output_type": "stream",
     "text": [
      "ADF Statistic: 0.913251\n",
      "p-value: 0.993261\n",
      "\t1%: -3.964\n",
      "\t5%: -3.085\n",
      "\t10%: -2.682\n"
     ]
    }
   ],
   "source": [
    "tsResult = adfuller(close_XOM_Ts)\n",
    "print('ADF Statistic: %f' % tsResult[0])\n",
    "print('p-value: %f' % tsResult[1])\n",
    "for key, value in tsResult[4].items():\n",
    "    print('\\t%s: %.3f' % (key, value))"
   ]
  }
 ],
 "metadata": {
  "kernelspec": {
   "display_name": "Python 3",
   "language": "python",
   "name": "python3"
  },
  "language_info": {
   "codemirror_mode": {
    "name": "ipython",
    "version": 3
   },
   "file_extension": ".py",
   "mimetype": "text/x-python",
   "name": "python",
   "nbconvert_exporter": "python",
   "pygments_lexer": "ipython3",
   "version": "3.7.1"
  }
 },
 "nbformat": 4,
 "nbformat_minor": 2
}
